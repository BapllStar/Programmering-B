{
 "cells": [
  {
   "cell_type": "code",
   "execution_count": 1,
   "metadata": {},
   "outputs": [],
   "source": [
    "import numpy as np\n",
    "import random\n",
    "import math\n",
    "from tqdm import tqdm\n",
    "import os\n",
    "import pickle\n",
    "import ctypes"
   ]
  },
  {
   "cell_type": "code",
   "execution_count": 2,
   "metadata": {},
   "outputs": [],
   "source": [
    "# Prevents the screen saver, sleep, and monitor power off\n",
    "ES_CONTINUOUS = 0x80000000\n",
    "ES_SYSTEM_REQUIRED = 0x00000001\n",
    "\n",
    "def prevent_sleep():\n",
    "    ctypes.windll.kernel32.SetThreadExecutionState(ES_CONTINUOUS | ES_SYSTEM_REQUIRED)\n",
    "\n",
    "def allow_sleep():\n",
    "    ctypes.windll.kernel32.SetThreadExecutionState(ES_CONTINUOUS)"
   ]
  },
  {
   "cell_type": "code",
   "execution_count": 3,
   "metadata": {},
   "outputs": [],
   "source": [
    "# My activation function of choice. Sigmoid returns a value between 1 and 0.\n",
    "def sigmoid(x) -> float:\n",
    "    return 1 / (1 + np.exp(-x))\n",
    "\n",
    "# Applies the sigmoid function to every value in the vector.\n",
    "def vector_sigmoid(vector) -> np.ndarray:\n",
    "    sig_vector = np.vectorize(sigmoid)(vector)\n",
    "    return sig_vector\n",
    "\n",
    "# Derivative of the sigmoid function.\n",
    "def sigmoid_derivative(x) -> float:\n",
    "    return sigmoid(x)*(1-sigmoid(x))"
   ]
  },
  {
   "cell_type": "code",
   "execution_count": 4,
   "metadata": {},
   "outputs": [],
   "source": [
    "# Calculates the values of a single layer.\n",
    "def calculate_layer(layer : int) -> None:\n",
    "    global weights, biases, activations, weighted_inputs\n",
    "    # z(L) = b(L) + W(L) * a(L-1)\n",
    "    #print(\"biases[layer]: \", biases[layer])\n",
    "    weighted_input = biases[layer] + (weights[layer] @ activations[layer-1])\n",
    "    \n",
    "    weighted_inputs[layer] = weighted_input\n",
    "    activated = vector_sigmoid(weighted_input)\n",
    "    activations[layer] = activated\n",
    "\n",
    "\n",
    "# Loops through every layer and calculates their activation values.\n",
    "def calculate_output() -> None:\n",
    "    global layers, activations\n",
    "    for i in range(1,len(layers)):\n",
    "        calculate_layer(i)\n"
   ]
  },
  {
   "cell_type": "code",
   "execution_count": 5,
   "metadata": {},
   "outputs": [],
   "source": [
    "# Calculates the derivative of the chain rule.\n",
    "def calculate_chain_derivative(is_parent, layer, row, column) -> float:\n",
    "    global weights, weighted_inputs, activations, expected_output\n",
    "    sum = 0\n",
    "    if layer == len(activations) - 1:\n",
    "        cost_derivative = 2 * (activations[layer][row] - expected_output[row])\n",
    "        \n",
    "        sum = cost_derivative\n",
    "    else:\n",
    "        for i in range(len(activations[layer+1])):\n",
    "            sum += calculate_chain_derivative(False, layer + 1, i, row)\n",
    "    weighted_input = weighted_inputs[layer][row]\n",
    "    activation_derivative = sigmoid_derivative(weighted_input)\n",
    "    if is_parent:\n",
    "        return sum * activation_derivative\n",
    "    else:\n",
    "        weighted_input_derivative = weights[layer][row][column]\n",
    "        return sum * activation_derivative * weighted_input_derivative"
   ]
  },
  {
   "cell_type": "code",
   "execution_count": 6,
   "metadata": {},
   "outputs": [],
   "source": [
    "# Calculates the derivative of the bias.\n",
    "def calculate_bias_derivative(is_parent, layer, row, column) -> float: # Literally just a useless function.\n",
    "    chain_derivative = calculate_chain_derivative(is_parent, layer, row, column)\n",
    "    return chain_derivative\n",
    "\n",
    "# Calculates the derivative of the weight.\n",
    "def calculate_weight_derivative(is_parent, layer, row, column) -> float:  \n",
    "    chain_derivative = calculate_chain_derivative(is_parent, layer, row, column)\n",
    "    result = chain_derivative * activations[layer-1][column]\n",
    "    return result"
   ]
  },
  {
   "cell_type": "code",
   "execution_count": 7,
   "metadata": {},
   "outputs": [],
   "source": [
    "\n",
    "def backpropagate() -> None:\n",
    "    global weights, biases, activations, weighted_inputs, expected_output, weight_gradient, bias_gradient\n",
    "\n",
    "    for layer in range(1, len(weights)):\n",
    "        for row in range(len(weights[layer])):\n",
    "            for column in range(len(weights[layer][row])):\n",
    "                weight_gradient[layer][row][column] = calculate_weight_derivative(True, layer, row, column)\n",
    "    \n",
    "    for layer in range(1, len(biases)):\n",
    "        for row in range(len(biases[layer])):\n",
    "            bias_gradient[layer][row] = calculate_bias_derivative(True, layer, row, column)"
   ]
  },
  {
   "cell_type": "code",
   "execution_count": 8,
   "metadata": {},
   "outputs": [],
   "source": [
    "def set_input(input : np.ndarray) -> None:\n",
    "    global activations\n",
    "    activations[0] = input\n",
    "\n",
    "def set_expected_output(output : np.ndarray) -> None:\n",
    "    global expected_output\n",
    "    expected_output = output"
   ]
  },
  {
   "cell_type": "code",
   "execution_count": 9,
   "metadata": {},
   "outputs": [],
   "source": [
    "def next_sample():\n",
    "    global index, data\n",
    "    #print(\"Index: \", index)\n",
    "    sample = data[index]\n",
    "    set_input(sample[0])\n",
    "    set_expected_output(sample[1])\n",
    "    index += 1\n",
    "    if index >= len(data):\n",
    "        index = 0"
   ]
  },
  {
   "cell_type": "code",
   "execution_count": 10,
   "metadata": {},
   "outputs": [],
   "source": [
    "def learn() -> None:\n",
    "    next_sample()\n",
    "    calculate_output()\n",
    "    backpropagate()"
   ]
  },
  {
   "cell_type": "code",
   "execution_count": 11,
   "metadata": {},
   "outputs": [],
   "source": [
    "def save_network() -> None:\n",
    "    global weights, biases, index\n",
    "    with open(\"weights.pkl\", \"wb\") as file:\n",
    "        pickle.dump(weights, file)\n",
    "    with open(\"biases.pkl\", \"wb\") as file:\n",
    "        pickle.dump(biases, file)\n",
    "    with open(\"index.pkl\", \"wb\") as file:\n",
    "        pickle.dump(index, file)"
   ]
  },
  {
   "cell_type": "code",
   "execution_count": 12,
   "metadata": {},
   "outputs": [],
   "source": [
    "# TODO: make it loop around the test data if it reaches the end.\n",
    "def mini_batch_gradient_descent(epochs: int, batch_size: int, lr: float, save_frequency: int) -> None:\n",
    "    prevent_sleep()\n",
    "    global weight_gradient, bias_gradient, index, weights, biases\n",
    "    index = 0\n",
    "    for epoch in tqdm(range(epochs), desc=\"Epoch\", leave=None):\n",
    "        batch_weights = [np.zeros_like(layer) for layer in weight_gradient]\n",
    "        batch_weights = np.array(batch_weights, dtype=object)\n",
    "        batch_biases = [np.zeros_like(layer) for layer in bias_gradient]\n",
    "        batch_biases = np.array(batch_biases, dtype=object)\n",
    "\n",
    "        missed = 0\n",
    "        for i in range(batch_size):\n",
    "            learn()\n",
    "            #print(\"batch_weights: \", batch_weights)\n",
    "            #print(\"weight_gradient: \", weight_gradient)\n",
    "            batch_weights += weight_gradient\n",
    "            batch_biases += bias_gradient\n",
    "        \n",
    "        batch_weights = np.array([x / (batch_size) for x in batch_weights],dtype=object)\n",
    "        #weights -= batch_weights\n",
    "        for w, b in zip(weights, batch_weights):\n",
    "            w -= b * lr\n",
    "        \n",
    "        \n",
    "        batch_biases = np.array([x / (batch_size) for x in batch_biases],dtype=object)\n",
    "        #biases -= batch_biases\n",
    "        for b, b2 in zip(biases, batch_biases):\n",
    "            b -= b2 * lr\n",
    "\n",
    "        if epoch % save_frequency == 0:\n",
    "            save_network()\n",
    "    allow_sleep()\n"
   ]
  },
  {
   "cell_type": "code",
   "execution_count": 13,
   "metadata": {},
   "outputs": [
    {
     "name": "stdout",
     "output_type": "stream",
     "text": [
      "Formatted data file already exists. Loading data...\n"
     ]
    },
    {
     "name": "stderr",
     "output_type": "stream",
     "text": [
      "Loading data: 100%|██████████| 1/1 [00:00<00:00,  3.35it/s]\n"
     ]
    }
   ],
   "source": [
    "# Check if the formatted data file exists\n",
    "if os.path.exists(\"formatted_data.pkl\"):\n",
    "    print(\"Formatted data file already exists. Loading data...\")\n",
    "    with tqdm(total=1, desc=\"Loading data\") as pbar:\n",
    "        with open(\"formatted_data.pkl\", \"rb\") as file:\n",
    "            data = pickle.load(file)\n",
    "        pbar.update(1)\n",
    "else:\n",
    "    print(\"Formatted data file does not exist. Formatting data...\")\n",
    "    # Your existing code for formatting the data\n",
    "    \n",
    "    with open(\"mnist_train.csv\", \"r\") as file:\n",
    "        lines = file.readlines()\n",
    "        data = []\n",
    "        total_lines = len(lines)\n",
    "        for line in tqdm(lines, total=total_lines, desc=\"Processing data\"):\n",
    "            values = line.strip().split(\",\")\n",
    "            label = int(values[0])\n",
    "            image = np.array([float(x)/255 for x in values[1:]], dtype=np.float32)\n",
    "            if len(image) != 784: print(\"Error! Image wrong size: \" + len(image))\n",
    "            expected_output = np.zeros(10)\n",
    "            expected_output[label] = 1\n",
    "            example = [image, expected_output]\n",
    "            data.append(example)\n",
    "\n",
    "        # Save the training data into a file\n",
    "        with open(\"formatted_data.pkl\", \"wb\") as file:\n",
    "            pickle.dump(data, file)\n",
    "        print(\"Training data saved into formatted data file.\")\n",
    "\n",
    "\n",
    "#print(data[0])\n"
   ]
  },
  {
   "cell_type": "code",
   "execution_count": 14,
   "metadata": {},
   "outputs": [],
   "source": [
    "def load_prevois_paramethers() -> None:\n",
    "    global weights, biases\n",
    "    if os.path.exists(\"weights.pkl\"):\n",
    "        with open(\"weights.pkl\", \"rb\") as file:\n",
    "            weights = pickle.load(file)\n",
    "            print(\"Weights loaded.\")\n",
    "    else:\n",
    "        print(\"No weights file found. Starting from the beginning.\")\n",
    "    if os.path.exists(\"biases.pkl\"):\n",
    "        with open(\"biases.pkl\", \"rb\") as file:\n",
    "            biases = pickle.load(file)\n",
    "            print(\"Biases loaded.\")\n",
    "    else:\n",
    "        print(\"No biases file found. Starting from the beginning.\")\n",
    "    if os.path.exists(\"index.pkl\"):\n",
    "        with open(\"index.pkl\", \"rb\") as file:\n",
    "            index = pickle.load(file)\n",
    "            print(\"Index loaded. Starting from index: \", index)\n",
    "    else:\n",
    "        print(\"No Index file found. Starting from the beginning.\")"
   ]
  },
  {
   "cell_type": "code",
   "execution_count": 15,
   "metadata": {},
   "outputs": [
    {
     "name": "stdout",
     "output_type": "stream",
     "text": [
      "Weights loaded.\n",
      "Biases loaded.\n",
      "Index loaded.\n"
     ]
    },
    {
     "name": "stderr",
     "output_type": "stream",
     "text": [
      "Epoch:   0%|          | 0/200 [00:04<?, ?it/s]\n"
     ]
    },
    {
     "ename": "KeyboardInterrupt",
     "evalue": "",
     "output_type": "error",
     "traceback": [
      "\u001b[1;31m---------------------------------------------------------------------------\u001b[0m",
      "\u001b[1;31mKeyboardInterrupt\u001b[0m                         Traceback (most recent call last)",
      "Cell \u001b[1;32mIn[15], line 21\u001b[0m\n\u001b[0;32m     18\u001b[0m bias_gradient \u001b[38;5;241m=\u001b[39m np\u001b[38;5;241m.\u001b[39marray(bias_gradient, dtype\u001b[38;5;241m=\u001b[39m\u001b[38;5;28mobject\u001b[39m)\n\u001b[0;32m     20\u001b[0m load_prevois_paramethers()\n\u001b[1;32m---> 21\u001b[0m \u001b[43mmini_batch_gradient_descent\u001b[49m\u001b[43m(\u001b[49m\u001b[38;5;241;43m200\u001b[39;49m\u001b[43m,\u001b[49m\u001b[43m \u001b[49m\u001b[38;5;241;43m32\u001b[39;49m\u001b[43m,\u001b[49m\u001b[43m \u001b[49m\u001b[38;5;241;43m1\u001b[39;49m\u001b[43m,\u001b[49m\u001b[43m \u001b[49m\u001b[38;5;241;43m10\u001b[39;49m\u001b[43m)\u001b[49m\n",
      "Cell \u001b[1;32mIn[12], line 14\u001b[0m, in \u001b[0;36mmini_batch_gradient_descent\u001b[1;34m(epochs, batch_size, lr, save_frequency)\u001b[0m\n\u001b[0;32m     12\u001b[0m missed \u001b[38;5;241m=\u001b[39m \u001b[38;5;241m0\u001b[39m\n\u001b[0;32m     13\u001b[0m \u001b[38;5;28;01mfor\u001b[39;00m i \u001b[38;5;129;01min\u001b[39;00m \u001b[38;5;28mrange\u001b[39m(batch_size):\n\u001b[1;32m---> 14\u001b[0m     \u001b[43mlearn\u001b[49m\u001b[43m(\u001b[49m\u001b[43m)\u001b[49m\n\u001b[0;32m     15\u001b[0m     \u001b[38;5;66;03m#print(\"batch_weights: \", batch_weights)\u001b[39;00m\n\u001b[0;32m     16\u001b[0m     \u001b[38;5;66;03m#print(\"weight_gradient: \", weight_gradient)\u001b[39;00m\n\u001b[0;32m     17\u001b[0m     batch_weights \u001b[38;5;241m+\u001b[39m\u001b[38;5;241m=\u001b[39m weight_gradient\n",
      "Cell \u001b[1;32mIn[10], line 4\u001b[0m, in \u001b[0;36mlearn\u001b[1;34m()\u001b[0m\n\u001b[0;32m      2\u001b[0m next_sample()\n\u001b[0;32m      3\u001b[0m calculate_output()\n\u001b[1;32m----> 4\u001b[0m \u001b[43mbackpropagate\u001b[49m\u001b[43m(\u001b[49m\u001b[43m)\u001b[49m\n",
      "Cell \u001b[1;32mIn[7], line 7\u001b[0m, in \u001b[0;36mbackpropagate\u001b[1;34m()\u001b[0m\n\u001b[0;32m      5\u001b[0m     \u001b[38;5;28;01mfor\u001b[39;00m row \u001b[38;5;129;01min\u001b[39;00m \u001b[38;5;28mrange\u001b[39m(\u001b[38;5;28mlen\u001b[39m(weights[layer])):\n\u001b[0;32m      6\u001b[0m         \u001b[38;5;28;01mfor\u001b[39;00m column \u001b[38;5;129;01min\u001b[39;00m \u001b[38;5;28mrange\u001b[39m(\u001b[38;5;28mlen\u001b[39m(weights[layer][row])):\n\u001b[1;32m----> 7\u001b[0m             weight_gradient[layer][row][column] \u001b[38;5;241m=\u001b[39m \u001b[43mcalculate_weight_derivative\u001b[49m\u001b[43m(\u001b[49m\u001b[38;5;28;43;01mTrue\u001b[39;49;00m\u001b[43m,\u001b[49m\u001b[43m \u001b[49m\u001b[43mlayer\u001b[49m\u001b[43m,\u001b[49m\u001b[43m \u001b[49m\u001b[43mrow\u001b[49m\u001b[43m,\u001b[49m\u001b[43m \u001b[49m\u001b[43mcolumn\u001b[49m\u001b[43m)\u001b[49m\n\u001b[0;32m      9\u001b[0m \u001b[38;5;28;01mfor\u001b[39;00m layer \u001b[38;5;129;01min\u001b[39;00m \u001b[38;5;28mrange\u001b[39m(\u001b[38;5;241m1\u001b[39m, \u001b[38;5;28mlen\u001b[39m(biases)):\n\u001b[0;32m     10\u001b[0m     \u001b[38;5;28;01mfor\u001b[39;00m row \u001b[38;5;129;01min\u001b[39;00m \u001b[38;5;28mrange\u001b[39m(\u001b[38;5;28mlen\u001b[39m(biases[layer])):\n",
      "Cell \u001b[1;32mIn[6], line 8\u001b[0m, in \u001b[0;36mcalculate_weight_derivative\u001b[1;34m(is_parent, layer, row, column)\u001b[0m\n\u001b[0;32m      7\u001b[0m \u001b[38;5;28;01mdef\u001b[39;00m \u001b[38;5;21mcalculate_weight_derivative\u001b[39m(is_parent, layer, row, column) \u001b[38;5;241m-\u001b[39m\u001b[38;5;241m>\u001b[39m \u001b[38;5;28mfloat\u001b[39m:  \n\u001b[1;32m----> 8\u001b[0m     chain_derivative \u001b[38;5;241m=\u001b[39m \u001b[43mcalculate_chain_derivative\u001b[49m\u001b[43m(\u001b[49m\u001b[43mis_parent\u001b[49m\u001b[43m,\u001b[49m\u001b[43m \u001b[49m\u001b[43mlayer\u001b[49m\u001b[43m,\u001b[49m\u001b[43m \u001b[49m\u001b[43mrow\u001b[49m\u001b[43m,\u001b[49m\u001b[43m \u001b[49m\u001b[43mcolumn\u001b[49m\u001b[43m)\u001b[49m\n\u001b[0;32m      9\u001b[0m     result \u001b[38;5;241m=\u001b[39m chain_derivative \u001b[38;5;241m*\u001b[39m activations[layer\u001b[38;5;241m-\u001b[39m\u001b[38;5;241m1\u001b[39m][column]\n\u001b[0;32m     10\u001b[0m     \u001b[38;5;28;01mreturn\u001b[39;00m result\n",
      "Cell \u001b[1;32mIn[5], line 11\u001b[0m, in \u001b[0;36mcalculate_chain_derivative\u001b[1;34m(is_parent, layer, row, column)\u001b[0m\n\u001b[0;32m      9\u001b[0m \u001b[38;5;28;01melse\u001b[39;00m:\n\u001b[0;32m     10\u001b[0m     \u001b[38;5;28;01mfor\u001b[39;00m i \u001b[38;5;129;01min\u001b[39;00m \u001b[38;5;28mrange\u001b[39m(\u001b[38;5;28mlen\u001b[39m(activations[layer\u001b[38;5;241m+\u001b[39m\u001b[38;5;241m1\u001b[39m])):\n\u001b[1;32m---> 11\u001b[0m         \u001b[38;5;28msum\u001b[39m \u001b[38;5;241m+\u001b[39m\u001b[38;5;241m=\u001b[39m \u001b[43mcalculate_chain_derivative\u001b[49m\u001b[43m(\u001b[49m\u001b[38;5;28;43;01mFalse\u001b[39;49;00m\u001b[43m,\u001b[49m\u001b[43m \u001b[49m\u001b[43mlayer\u001b[49m\u001b[43m \u001b[49m\u001b[38;5;241;43m+\u001b[39;49m\u001b[43m \u001b[49m\u001b[38;5;241;43m1\u001b[39;49m\u001b[43m,\u001b[49m\u001b[43m \u001b[49m\u001b[43mi\u001b[49m\u001b[43m,\u001b[49m\u001b[43m \u001b[49m\u001b[43mrow\u001b[49m\u001b[43m)\u001b[49m\n\u001b[0;32m     12\u001b[0m weighted_input \u001b[38;5;241m=\u001b[39m weighted_inputs[layer][row]\n\u001b[0;32m     13\u001b[0m activation_derivative \u001b[38;5;241m=\u001b[39m sigmoid_derivative(weighted_input)\n",
      "Cell \u001b[1;32mIn[5], line 11\u001b[0m, in \u001b[0;36mcalculate_chain_derivative\u001b[1;34m(is_parent, layer, row, column)\u001b[0m\n\u001b[0;32m      9\u001b[0m \u001b[38;5;28;01melse\u001b[39;00m:\n\u001b[0;32m     10\u001b[0m     \u001b[38;5;28;01mfor\u001b[39;00m i \u001b[38;5;129;01min\u001b[39;00m \u001b[38;5;28mrange\u001b[39m(\u001b[38;5;28mlen\u001b[39m(activations[layer\u001b[38;5;241m+\u001b[39m\u001b[38;5;241m1\u001b[39m])):\n\u001b[1;32m---> 11\u001b[0m         \u001b[38;5;28msum\u001b[39m \u001b[38;5;241m+\u001b[39m\u001b[38;5;241m=\u001b[39m \u001b[43mcalculate_chain_derivative\u001b[49m\u001b[43m(\u001b[49m\u001b[38;5;28;43;01mFalse\u001b[39;49;00m\u001b[43m,\u001b[49m\u001b[43m \u001b[49m\u001b[43mlayer\u001b[49m\u001b[43m \u001b[49m\u001b[38;5;241;43m+\u001b[39;49m\u001b[43m \u001b[49m\u001b[38;5;241;43m1\u001b[39;49m\u001b[43m,\u001b[49m\u001b[43m \u001b[49m\u001b[43mi\u001b[49m\u001b[43m,\u001b[49m\u001b[43m \u001b[49m\u001b[43mrow\u001b[49m\u001b[43m)\u001b[49m\n\u001b[0;32m     12\u001b[0m weighted_input \u001b[38;5;241m=\u001b[39m weighted_inputs[layer][row]\n\u001b[0;32m     13\u001b[0m activation_derivative \u001b[38;5;241m=\u001b[39m sigmoid_derivative(weighted_input)\n",
      "Cell \u001b[1;32mIn[5], line 13\u001b[0m, in \u001b[0;36mcalculate_chain_derivative\u001b[1;34m(is_parent, layer, row, column)\u001b[0m\n\u001b[0;32m     11\u001b[0m         \u001b[38;5;28msum\u001b[39m \u001b[38;5;241m+\u001b[39m\u001b[38;5;241m=\u001b[39m calculate_chain_derivative(\u001b[38;5;28;01mFalse\u001b[39;00m, layer \u001b[38;5;241m+\u001b[39m \u001b[38;5;241m1\u001b[39m, i, row)\n\u001b[0;32m     12\u001b[0m weighted_input \u001b[38;5;241m=\u001b[39m weighted_inputs[layer][row]\n\u001b[1;32m---> 13\u001b[0m activation_derivative \u001b[38;5;241m=\u001b[39m \u001b[43msigmoid_derivative\u001b[49m\u001b[43m(\u001b[49m\u001b[43mweighted_input\u001b[49m\u001b[43m)\u001b[49m\n\u001b[0;32m     14\u001b[0m \u001b[38;5;28;01mif\u001b[39;00m is_parent:\n\u001b[0;32m     15\u001b[0m     \u001b[38;5;28;01mreturn\u001b[39;00m \u001b[38;5;28msum\u001b[39m \u001b[38;5;241m*\u001b[39m activation_derivative\n",
      "Cell \u001b[1;32mIn[3], line 12\u001b[0m, in \u001b[0;36msigmoid_derivative\u001b[1;34m(x)\u001b[0m\n\u001b[0;32m     11\u001b[0m \u001b[38;5;28;01mdef\u001b[39;00m \u001b[38;5;21msigmoid_derivative\u001b[39m(x) \u001b[38;5;241m-\u001b[39m\u001b[38;5;241m>\u001b[39m \u001b[38;5;28mfloat\u001b[39m:\n\u001b[1;32m---> 12\u001b[0m     \u001b[38;5;28;01mreturn\u001b[39;00m sigmoid(x)\u001b[38;5;241m*\u001b[39m(\u001b[38;5;241m1\u001b[39m\u001b[38;5;241m-\u001b[39m\u001b[43msigmoid\u001b[49m\u001b[43m(\u001b[49m\u001b[43mx\u001b[49m\u001b[43m)\u001b[49m)\n",
      "Cell \u001b[1;32mIn[3], line 2\u001b[0m, in \u001b[0;36msigmoid\u001b[1;34m(x)\u001b[0m\n\u001b[0;32m      1\u001b[0m \u001b[38;5;66;03m# My activation function of choice. Sigmoid returns a value between 1 and 0.\u001b[39;00m\n\u001b[1;32m----> 2\u001b[0m \u001b[38;5;28;01mdef\u001b[39;00m \u001b[38;5;21msigmoid\u001b[39m(x) \u001b[38;5;241m-\u001b[39m\u001b[38;5;241m>\u001b[39m \u001b[38;5;28mfloat\u001b[39m:\n\u001b[0;32m      3\u001b[0m     \u001b[38;5;28;01mreturn\u001b[39;00m \u001b[38;5;241m1\u001b[39m \u001b[38;5;241m/\u001b[39m (\u001b[38;5;241m1\u001b[39m \u001b[38;5;241m+\u001b[39m np\u001b[38;5;241m.\u001b[39mexp(\u001b[38;5;241m-\u001b[39mx))\n\u001b[0;32m      5\u001b[0m \u001b[38;5;66;03m# Applies the sigmoid function to every value in the vector.\u001b[39;00m\n",
      "\u001b[1;31mKeyboardInterrupt\u001b[0m: "
     ]
    }
   ],
   "source": [
    "# Turn off dumb warnings\n",
    "#np.warnings.filterwarnings('ignore', category=np.VisibleDeprecationWarning)\n",
    "layers = [784, 16, 16, 10]\n",
    "\n",
    "weights = [0] + [np.random.uniform(-1,1,size=(layers[i], layers[i-1])) for i in range(1, len(layers))]\n",
    "weigths = np.array(weights,dtype=object)\n",
    "\n",
    "biases = [0] + [np.random.uniform(-1, 1, size=layers[i]) for i in range(1, len(layers))]\n",
    "biases = np.array(biases, dtype=object)\n",
    "\n",
    "weighted_inputs = [0] + [np.zeros((layers[i], 1)) for i in range(1, len(layers))]\n",
    "weighted_inputs = np.array(weighted_inputs, dtype=object)\n",
    "\n",
    "activations = [np.zeros((layers[i], 1)) for i in range(0, len(layers))]\n",
    "weight_gradient = [np.zeros_like(layer) for layer in weights]\n",
    "weight_gradient = np.array(weight_gradient, dtype=object)\n",
    "bias_gradient = [np.zeros_like(layer) for layer in biases]\n",
    "bias_gradient = np.array(bias_gradient, dtype=object)\n",
    "\n",
    "load_prevois_paramethers()\n",
    "mini_batch_gradient_descent(200, 32, 1, 10)\n"
   ]
  },
  {
   "cell_type": "markdown",
   "metadata": {},
   "source": [
    "Now that the NN has been trained, we can test its accuracy."
   ]
  },
  {
   "cell_type": "code",
   "execution_count": null,
   "metadata": {},
   "outputs": [],
   "source": [
    "def test() -> None:\n",
    "    global activations, test_data\n",
    "    correct = 0\n",
    "    for sample in test_data:\n",
    "        set_input(sample[0])\n",
    "        set_expected_output(sample[1])\n",
    "        calculate_output()\n",
    "        output = activations[-1]\n",
    "        if np.argmax(output) == np.argmax(sample[1]):\n",
    "            correct += 1\n",
    "    print(\"Correct: \", correct, \"/\", len(test_data))\n",
    "    print(\"Accuracy: \", correct/len(test_data)*100, \"%\")"
   ]
  },
  {
   "cell_type": "code",
   "execution_count": null,
   "metadata": {},
   "outputs": [],
   "source": [
    "# Check if the formatted test_data file exists\n",
    "if os.path.exists(\"formatted_test_data.pkl\"):\n",
    "    print(\"Formatted test data file already exists. Loading data...\")\n",
    "    with tqdm(total=1, desc=\"Loading data\") as pbar:\n",
    "        with open(\"formatted_test_data.pkl\", \"rb\") as file:\n",
    "            test_data = pickle.load(file)\n",
    "        pbar.update(1)\n",
    "else:\n",
    "    print(\"Formatted test data file does not exist. Formatting data...\")\n",
    "    \n",
    "    with open(\"mnist_test.csv\", \"r\") as file:\n",
    "        lines = file.readlines()\n",
    "        test_data = []\n",
    "        total_lines = len(lines)\n",
    "        for line in tqdm(lines, total=total_lines, desc=\"Processing data\"):\n",
    "            values = line.strip().split(\",\")\n",
    "            label = int(values[0])\n",
    "            image = np.array([float(x)/255 for x in values[1:]], dtype=np.float32)\n",
    "            if len(image) != 784: print(\"Error! Image wrong size: \" + len(image))\n",
    "            expected_output = np.zeros(10)\n",
    "            expected_output[label] = 1\n",
    "            example = [image, expected_output]\n",
    "            test_data.append(example)\n",
    "\n",
    "        # Save the training data into a file\n",
    "        with open(\"formatted_test_data.pkl\", \"wb\") as file:\n",
    "            pickle.dump(test_data, file)\n",
    "        print(\"Training data saved into formatted test data file.\")"
   ]
  },
  {
   "cell_type": "code",
   "execution_count": null,
   "metadata": {},
   "outputs": [
    {
     "ename": "",
     "evalue": "",
     "output_type": "error",
     "traceback": [
      "\u001b[1;31mThe Kernel crashed while executing code in the current cell or a previous cell. \n",
      "\u001b[1;31mPlease review the code in the cell(s) to identify a possible cause of the failure. \n",
      "\u001b[1;31mClick <a href='https://aka.ms/vscodeJupyterKernelCrash'>here</a> for more info. \n",
      "\u001b[1;31mView Jupyter <a href='command:jupyter.viewOutput'>log</a> for further details."
     ]
    }
   ],
   "source": [
    "test()"
   ]
  }
 ],
 "metadata": {
  "kernelspec": {
   "display_name": "Python 3",
   "language": "python",
   "name": "python3"
  },
  "language_info": {
   "codemirror_mode": {
    "name": "ipython",
    "version": 3
   },
   "file_extension": ".py",
   "mimetype": "text/x-python",
   "name": "python",
   "nbconvert_exporter": "python",
   "pygments_lexer": "ipython3",
   "version": "3.12.2"
  }
 },
 "nbformat": 4,
 "nbformat_minor": 2
}
