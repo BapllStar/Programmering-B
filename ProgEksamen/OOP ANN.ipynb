{
 "cells": [
  {
   "cell_type": "markdown",
   "metadata": {},
   "source": [
    "# Intro\n",
    "I dette project vil jeg lave et objectorienteret ConvNet, der skal kunne genkende forskellige typer af tøj og sortere dem i kategorier.\n",
    "Jeg har valgt at lave dem objektorienteret, da jeg før har forsøgt at lave ANN'er, hvor det var baseret hovedsagligt ud fra funktioner, hvilket ledte til, at de hele blev meget uoverskueligt og repeterivt."
   ]
  },
  {
   "cell_type": "markdown",
   "metadata": {},
   "source": [
    "# Importering af biblioteker\n",
    "Først vil jeg importere nogle biblioteker med foruddefinerede funktioner, der kan hjælpe med at gøre udviklingsprocessen nemmere."
   ]
  },
  {
   "cell_type": "code",
   "execution_count": 495,
   "metadata": {},
   "outputs": [],
   "source": [
    "import numpy as np # Matricer og vektorer\n",
    "np.random.seed(0) # For at kunne genskabe de samme resultater.\n",
    "\n",
    "import pandas as pd # Til at læse data"
   ]
  },
  {
   "cell_type": "code",
   "execution_count": 496,
   "metadata": {},
   "outputs": [],
   "source": [
    "debug = False # Skal der printes debug information?"
   ]
  },
  {
   "cell_type": "markdown",
   "metadata": {},
   "source": [
    "# Defineringen af et lag\n",
    "Først vil jeg definere en superklasse, lag, som de andre typer af lag skal nedarve fra."
   ]
  },
  {
   "cell_type": "code",
   "execution_count": 497,
   "metadata": {},
   "outputs": [],
   "source": [
    "class Lag:\n",
    "    # __init__, også kendt som constructor, er kort for 'intialize', og \n",
    "    # er en metode, der kaldes, når et objekt af klassen Lag oprettes. \n",
    "    # Init har ikke noget output.\n",
    "    def __init__(self) -> None:\n",
    "        # Input- of outputtypen afhænger af, hvilekt slags lag det er. \n",
    "        # Men alle lag har in og out, så jeg definerer dem som None her, \n",
    "        # for at de er der, når jeg nedarver herfra.\n",
    "        self.input = None\n",
    "        self.output = None\n",
    "    \n",
    "    # I frem-metoden, udregner vi outputtet ud fra inputtet. Hvad der sker \n",
    "    # i frem(), afhænger af, hvilket slags lag det er.\n",
    "    def frem(self, input):\n",
    "        pass\n",
    "\n",
    "    # I tilbage-metoden, udregner vi hvilke ændringer, der skal foretages \n",
    "    # på de trænede vægte og biaser, ud fra outputtet.\n",
    "    def tilbage(self, pa_output): \n",
    "        # 'pa_output' er 'partielle afledte af outputtet'. Her snakkes der\n",
    "        # om outputtet som blev udregnet i frem(). Dette er gives til laget,\n",
    "        # fra det næste lag i netværkert under bagudpropagering.\n",
    "        pass\n",
    "\n",
    "    def update(self, skridt_længde):\n",
    "        # Denne metode opdaterer vægtene og biaserne i laget, ud fra de \n",
    "        # ændringer, der blev udregnet i tilbage(). \n",
    "\n",
    "        # 'skridt_længde' er en hyperparameter, der bestemmer, hvor meget\n",
    "        # vi vil ændre på vægtene og biaserne. Denne værdi er fastsat af mig\n",
    "        # i dette tilfælde. Man kunne dog vælge at få den til at variere, alt\n",
    "        # efter hvor langt netværket er fra sit mål.\n",
    "        pass"
   ]
  },
  {
   "cell_type": "markdown",
   "metadata": {},
   "source": [
    "# Definering af FF_Lag\n",
    "Et FF-lag, eller et 'Fuldt forbundet' lag, er en type af lag, der ofte findes i Artificial Neural Networks. Her består et lag af neuroner, der er forbundet med synapser til alle de kommende lag. Her undlader jeg dog at bruge en aktiveringsfunktion, da dette kan gøres i et separat lag."
   ]
  },
  {
   "cell_type": "code",
   "execution_count": 498,
   "metadata": {},
   "outputs": [],
   "source": [
    "# Dette er et fuldt forbundet lag, også kendt som et fully connected layer, eller dense layer.\n",
    "class FF(Lag):\n",
    "    def __init__(self, n_input : int, n_output : int) -> None:\n",
    "        if debug: print(\"FF init\")\n",
    "\n",
    "        # Her er n_input antallet af neuroner i det forrige lag, og n_output\n",
    "        # er antallet af neuroner i det næste lag.\n",
    "        # Dett skal jeg bruge for at vide, hvilket facon vægte og biaser skal have.\n",
    "        \n",
    "        self.w = np.random.randn(n_output, n_input).astype(np.float64)\n",
    "        # w er vægtene. De er initialiseret til at være tilfældige tal. Vægte er\n",
    "        # opbygget til at være samlet i en matrix, hvor højde er antaller af\n",
    "        # neuroner i det næste lag, og bredde er antallet af neuroner i det forrige lag.\n",
    "        # Vægte bliver ganget på inputtet i frem() metoden.\n",
    "        \n",
    "        self.b = np.random.randn(n_output, 1).astype(np.float64)\n",
    "        # b er biaserne. De er initialiseret til at være tilfældige tal. Biaser er\n",
    "        # opbygget til at være en vektor, hvor højden er antallet af neuroner\n",
    "        # i det næste lag.\n",
    "        # Biaser bliver lagt til vægtene i frem() metoden.\n",
    "\n",
    "        self.pa_w = np.zeros_like(self.w).astype(np.float64)\n",
    "        self.pa_b = np.zeros_like(self.b).astype(np.float64)\n",
    "        # Disse variabler er sat til None, da de først bliver brugt i tilbage() og update() metoden.\n",
    "\n",
    "        self.iterations = 0\n",
    "        pass\n",
    "    \n",
    "    def frem(self, input) -> np.ndarray:\n",
    "        if debug: print(\"FF frem\")\n",
    "\n",
    "        # Normalt ville man have en aktiveringsfunktion her, men dette kan også gøres\n",
    "        # som et separat lag. Derfor er det udeladt her for at gøre det mere fleksibelt.\n",
    "\n",
    "        vægtet = np.dot(self.w, input)\n",
    "        # Inputtet ganges med vægtene, for at udregne outputtet. Dette gøres ved at\n",
    "        # lave en matrix-transformation af inputvektoren.\n",
    "\n",
    "        \n",
    "        forskudt = vægtet + self.b\n",
    "        # Biasvektoren lægges til det vægtede input. Dette kan forskyde \n",
    "\n",
    "        if debug:\n",
    "            print(\"input\")\n",
    "            print(np.shape(input))\n",
    "            print(\"vægtet\")\n",
    "            print(np.shape(vægtet))\n",
    "            print(\"self.b\")\n",
    "            print(np.shape(self.b))\n",
    "            print(\"forskudt\")\n",
    "            print(np.shape(forskudt))\n",
    "\n",
    "\n",
    "        self.input = input\n",
    "        self.output = forskudt\n",
    "        # Inputtet gemmes, så det kan bruges i tilbage() metoden.\n",
    "\n",
    "        return forskudt\n",
    "\n",
    "    def tilbage(self, pa_output) -> np.ndarray:\n",
    "        if debug: print(\"FF tilbage\")\n",
    "        \n",
    "        self.pa_w += np.dot(pa_output, self.input.T)\n",
    "        if debug: print(\"w clear\")\n",
    "        # Hvis man differencerer frem() metoden med hensyn til vægtene, finder man at\n",
    "        # resultatet er inputtet ganget med partielle afledte af outputtet.\n",
    "        # Vi transponerer inputtet, da det er en kolonnevektor, så resultatet bliver \n",
    "        # en matrix, der passer til vægtenes facon.\n",
    "\n",
    "        self.pa_b += pa_output # * 1\n",
    "        if debug: print(\"b clear\")\n",
    "        # Da biasene kun adderes på, er den partielle afledte af biaserne lig med 1.\n",
    "\n",
    "        # Vi gemmer de partielle afledte, så de kan bruges i update() metoden. Grunden til at\n",
    "        # vi ikke opdaterer vægtene og biaserne med det samme, er at vi gerne vil køre mini-batches.\n",
    "        # Dette betyder at vi først vil køre en række input igennem, og derefter opdatere vægtene og biaserne.\n",
    "\n",
    "        pa_input = np.dot(self.w.T, pa_output)\n",
    "        if debug: print(\"input clear\")\n",
    "        # I denne metode har vi brugt pa_output fra det næste lag, til at udregne de ændringer,\n",
    "        # vi skal lave til vægtene og biaserne. Vi skal også bruge et pa_output til det forrige lag.\n",
    "        # Da inputtet ganges med vægtene, for at udregne outputtet, er den partielle afledte af inputtet\n",
    "        # lig med vægtene ganget med pa_output fra det næste lag. Vi transponerer vægtene, for at få\n",
    "        # de så matcher til outputtet.\n",
    "\n",
    "        if debug:\n",
    "            print(\"pa_output\")\n",
    "            print(np.shape(pa_output))\n",
    "            print(\"pa_input\")\n",
    "            print(np.shape(pa_input))\n",
    "\n",
    "        self.iterations += 1\n",
    "\n",
    "        return pa_input\n",
    "    \n",
    "    def update(self, skridt_længde):\n",
    "        if debug: print(\"FF update\")\n",
    "\n",
    "        self.w -= skridt_længde * (self.pa_w/self.iterations)\n",
    "        self.b -= skridt_længde * (self.pa_b/self.iterations)\n",
    "        # Vægtene og biaserne opdateres ved at trække den partielle afledte af vægtene\n",
    "        # Da vi vil gå mod minimum, fremfor maksimum, trækker vi fra, og ganger\n",
    "        # med skridtlængden.\n",
    "\n",
    "        self.pa_w = np.zeros_like(self.w).astype(np.float64)\n",
    "        self.pa_b = np.zeros_like(self.b).astype(np.float64)\n",
    "        # Vi nulstiller de partielle afledte, så de er klar til næste Epoke.\n",
    "\n",
    "        self.iterations = 0\n",
    "        # Vi nulstiller antallet af iterationer, så vi kan tælle op til næste Epoke.\n",
    "    "
   ]
  },
  {
   "cell_type": "markdown",
   "metadata": {},
   "source": [
    "# Definering af Aktiveringsfunktionslag\n",
    "Normal finder man aktiveringsfunktioner inde i neronerne, men man kan også vælge at lave dem til et separat lag. Så kan man holde kompleksiteten nede. Hellere flere simple lag, end få komplicerede.\n",
    "<br>Desuden er det alstå også bare pænere at kigge på..."
   ]
  },
  {
   "cell_type": "code",
   "execution_count": 499,
   "metadata": {},
   "outputs": [],
   "source": [
    "# Et lag, der bruger en aktiveringsfunktion. Dette lag har ingen vægte eller biaser.\n",
    "class Funktion(Lag):\n",
    "    def __init__(self, funktion, afledt_funktion) -> None:\n",
    "        if debug: print(\"Funktion init\")\n",
    "\n",
    "        # Funktion er en aktiveringsfunktion, og afledt_funktion er sjovt nok den afledte funktionen.\n",
    "        \n",
    "        self.funktion = funktion\n",
    "        self.afledt_funktion = afledt_funktion\n",
    "        # Her gemmes funktionerne, så de kan bruges i frem() og tilbage() metoderne.\n",
    "    \n",
    "    def frem(self, input) -> np.ndarray:\n",
    "        if debug: print(\"Funktion frem\")\n",
    "        \n",
    "        self.input = input\n",
    "        # Inputtet gemmes, så det kan bruges i tilbage() metoden.\n",
    "\n",
    "        ikke_lineært = self.funktion(input)\n",
    "        # Funktionen anvendes på inputtet, og outputtet returneres. Aktiveringsfunktioner bliver brugt\n",
    "        # til at give netværkets beslutningsbariere en ikke-lineæritet, da ellers ville kunne blive\n",
    "        # reduceret til en lineær transformation.\n",
    "        # Dette er vigtigt, da mange problemer ikke er lineært separable.\n",
    "\n",
    "        if debug: \n",
    "            print(\"input:\")\n",
    "            print(np.shape(input))\n",
    "\n",
    "            print(\"output:\")\n",
    "            print(np.shape(ikke_lineært))\n",
    "\n",
    "        return ikke_lineært\n",
    "    \n",
    "    def tilbage(self, pa_output) -> np.ndarray:\n",
    "        if debug: print(\"Funktion tilbage\")\n",
    "        # Da aktiveringsfunktioner ikke har nogle vægte eller biaser, er der ikke noget at opdatere.\n",
    "\n",
    "        pa_input = np.multiply(pa_output, self.afledt_funktion(self.input))\n",
    "        # Her tager vi Hadamard-produktet af pa_output og den afledte funktion af inputtet.\n",
    "        if debug: print(np.shape(pa_input))\n",
    "        return pa_input\n",
    "        pass"
   ]
  },
  {
   "cell_type": "code",
   "execution_count": 500,
   "metadata": {},
   "outputs": [],
   "source": [
    "# For specifikke aktiveringsfunktioner, kan vi nedarve fra Funktion, og give dem en specifik funktion og afledt funktion.\n",
    "# Her bruger jeg sigmoid, da den giver nogle pæne værdier mellem 0 og 1. Den er meget ligesom en tanH-funktion, der giver\n",
    "# værdier mellem -1 og 1. Dog kan jeg godt lide den pæne form, som sigmoid har.\n",
    "class Sigmoid(Funktion):\n",
    "    def __init__(self):\n",
    "\n",
    "        sigmoid = lambda x: 1 / (1 + np.exp(-np.clip(x, -500, 500)))\n",
    "        afledt_sigmoid = lambda x: sigmoid(x) * (1 - sigmoid(x)) \n",
    "        # Her bruger jeg funktionelle lambda-udtryk, for at definere sigmoid og dens afledte funktion.\n",
    "        # Dette gør, at jeg kan gemme dem i en variabel, og give dem til super's constructor.\n",
    "        # Lamda-udtryk har det some regel også med at være lidt hurtigere end funktioner, men det\n",
    "        # betyder ikke meget her, fordi jeg ikke fokuserer på hastighed.\n",
    "\n",
    "        # I den afledte funktion, bruger jeg sigmoid(x) for at undgå at skulle udregne med for store tal.\n",
    "\n",
    "        super().__init__(sigmoid, afledt_sigmoid)"
   ]
  },
  {
   "cell_type": "markdown",
   "metadata": {},
   "source": [
    "# Udregning af netværkets tab\n",
    "Når vi skal træne det neurale netværk, har vi brug for at vide, hvor godt netværket klarer sig. Derfor skal vi bruge et udtryk, der hedder 'tab'. Dette kan man finde ved at sammenligne netværkets output med éns ønskede output.\n",
    "$$\n",
    "Tab = \n",
    "(Output - ØnsketOutput)^2\n",
    "$$\n",
    "Grunden til at man sætter det i anden, er fordi programmet går efter mindst muligt tab. Hvis denne værdi kunne gå i negativ, fordi det ønskede output var højere end outputtet, ville programmet blive ved med at bevæge outputtet længere væk fra det ønskede output, fordi det ville blive en lavere værdi. Dertil får man den bonus, at tabet bliver eksponintielt voldsommere, jo mere forkert outputtet er."
   ]
  },
  {
   "cell_type": "code",
   "execution_count": 501,
   "metadata": {},
   "outputs": [],
   "source": [
    "# Ikke brugbar til træning, da man kun skal bruge den afledte funktion til at køre bagudpropageringen.\n",
    "# Dog kan man bruge denne her til at holde øje med, om netværket lærer noget.\n",
    "def tab(output, ønsket_output) -> float:\n",
    "    # Tab er en funktion, der udregner hvor langt netværket er fra sit mål.\n",
    "    return np.sum((output - ønsket_output) ** 2)\n",
    "\n",
    "def pa_tab(output, ønsket_output) -> np.ndarray:\n",
    "    # Den partielle afledte af tab-funktionen med hensyn til outputtet.\n",
    "    if debug:\n",
    "        print (\"pa_tab\")\n",
    "        print(np.shape(output))\n",
    "        print(np.shape(ønsket_output))\n",
    "    return 2 * (output - ønsket_output)"
   ]
  },
  {
   "cell_type": "markdown",
   "metadata": {},
   "source": [
    "# Definering af et Netværk\n",
    "Normalt ville man ikek behøve at definere en klasse til at køre alle udregningerne, men da jeg gerne vi kunne lave flere versioner af forskellige netværk til tests med mere, er det hurtigere at samle det til en klasse, så jeg kan bruge den på forskellige måder, uden at skulle genskrive al koden."
   ]
  },
  {
   "cell_type": "code",
   "execution_count": 502,
   "metadata": {},
   "outputs": [],
   "source": [
    "class Netværk():\n",
    "    def __init__(self, lag) -> None:\n",
    "        self.lag = lag\n",
    "        # Lag er en liste af lag, som netværket består af.\n",
    "\n",
    "    def frem(self, input) -> np.ndarray:\n",
    "        # Frem-metoden tager inputtet, og sender det igennem alle lagene i netværket.\n",
    "\n",
    "        for l in self.lag:\n",
    "            input = l.frem(input)\n",
    "            # Inputtet sendes igennem hvert lag, og outputtet bliver det nye input.\n",
    "        return input\n",
    "    \n",
    "    def __tilbage(self, pa_output) -> np.ndarray:\n",
    "        # Tilbage-metoden tager partielle afledte af outputtet, og sender dem igennem alle lagene i netværket.\n",
    "\n",
    "        for l in reversed(self.lag):\n",
    "            pa_output = l.tilbage(pa_output)\n",
    "            # Partielle afledte af outputtet sendes igennem hvert lag, og outputtet bliver det nye input.\n",
    "        return pa_output\n",
    "    \n",
    "    def __update(self, skridt_længde) -> None:\n",
    "        # Update-metoden opdaterer vægtene og biaserne i alle lagene i netværket.\n",
    "\n",
    "        for l in self.lag:\n",
    "            l.update(skridt_længde)\n",
    "            # Vægtene og biaserne i hvert lag opdateres.\n",
    "    \n",
    "    def __tab(self, output, ønsket_output) -> float:\n",
    "        # Tab-metoden tager outputtet og ønsket_outputtet, og udregner tabet.\n",
    "        # Dette er udelukkende, så vi kan se, hvor langt netværket er fra sit mål.\n",
    "        return tab(output, ønsket_output)\n",
    "    \n",
    "\n",
    "    # Jeg har valgt at lave de overstående metoder private, da de ikke skal bruges udenfor klassen.\n",
    "\n",
    "\n",
    "    def træn(self, inputs : np.ndarray, ønskede_outputs : np.ndarray, skridt_længde : float, epoker : int, batchstørrelse : int, tab_print_interval : int) -> None:\n",
    "        # Træn-metoden tager inputs, ønskede_outputs, skridt_længde, antallet af epoker og batchstørrelsen.\n",
    "        # Den træner netværket, ved at køre inputs igennem netværket, udregne tabet, og køre bagudpropagering.\n",
    "        # Dette gøres for et antal epoker, og med en batchstørrelse.\n",
    "        \n",
    "        # Mini-batch gradientnedstigning.\n",
    "        for i in range(epoker): \n",
    "            # For hver epoke\n",
    "\n",
    "            for _ in range(batchstørrelse): \n",
    "                # For hver batch\n",
    "\n",
    "                output = self.frem(inputs[i % len(inputs)])\n",
    "                # Inputtet sendes igennem netværket, og outputtet returneres.\n",
    "\n",
    "                pa_output = pa_tab(output, ønskede_outputs[i % len(ønskede_outputs)])\n",
    "                # Den partielle afledte af tabet for outputtet udregnes.\n",
    "\n",
    "                if debug: print(np.shape(pa_output))\n",
    "\n",
    "                self.__tilbage(pa_output)\n",
    "                # Partielle afledte sendes igennem netværket.\n",
    "            \n",
    "            self.__update(skridt_længde)\n",
    "            # Efter at have kørt en batch igennem, opdateres vægtene og biaserne.\n",
    "\n",
    "\n",
    "            \n",
    "            if (i+1) % tab_print_interval == 0:\n",
    "                tab = self.__tab(output, ønskede_outputs[i % len(ønskede_outputs)])\n",
    "                print(f\"Epoke {i+1}/{epoker} | {np.round(100*(i+1)/epoker,2)}% | Tab: {tab}\")\n",
    "                # Her printes tabet, så vi kan se, om netværket lærer noget.\n",
    "        \n",
    "        print(\"\\nTræning færdig\")\n",
    "        print(f\"Afsluttet med tab: {self.__tab(output, ønskede_outputs[i % len(ønskede_outputs)])}\")\n",
    "\n",
    "\n",
    "    def test(self,inputs : np.ndarray, ønskede_outputs : np.ndarray) -> None:\n",
    "\n",
    "        rigtige_svar = 0\n",
    "\n",
    "        for i in range(len(inputs)):\n",
    "\n",
    "            output = self.frem(inputs[i])\n",
    "            # Udregner outputtet for inputtet.\n",
    "\n",
    "            max_index = np.argmax(output)\n",
    "            output = np.zeros(output.shape)\n",
    "            output[max_index] = 1\n",
    "            # Finder det index, hvor outputtet er størst, og sætter det til 1, og resten til 0.\n",
    "\n",
    "            if np.array_equal(output, ønskede_outputs[i]): rigtige_svar += 1\n",
    "\n",
    "        præcision = np.round(rigtige_svar / len(inputs) * 100,2)\n",
    "        print(f\"Præcision: {præcision}%\")\n",
    "\n",
    "\n"
   ]
  },
  {
   "cell_type": "code",
   "execution_count": 503,
   "metadata": {},
   "outputs": [],
   "source": [
    "ann = Netværk([\n",
    "    FF(2, 3), \n",
    "    Sigmoid(), \n",
    "    FF(3, 1), \n",
    "    Sigmoid()\n",
    "    ])\n",
    "# Her opretter jeg et netværk, som består af et inputlag med 2 neuroner, et skjult lag med 3 neuroner,\n",
    "# et outputlag med 1 neuron.\n",
    "\n",
    "inputs = np.reshape([[0, 0], [0, 1], [1, 0], [1, 1]], (4, 2, 1))\n",
    "ønskede_outputs = np.reshape([[0], [1], [1], [0]], (4, 1, 1))\n",
    "# Her opretter jeg inputs og ønskede_outputs, som er XOR-gate. Dette er et klassisk problem, som\n",
    "\n",
    "#ann.træn(inputs, ønskede_outputs, 0.1, 10000, 4, 500)\n"
   ]
  },
  {
   "cell_type": "markdown",
   "metadata": {},
   "source": [
    "# Test af ANN\n",
    "Al den overstående kode er nok til at definere et ANN, så før jeg begynder at løse et stort datasæt, vil jeg lige teste om det fungerer først. Til dette bruger jeg den klassiske XOR test, der er et ikke-lineært separabelt problem."
   ]
  },
  {
   "cell_type": "markdown",
   "metadata": {},
   "source": [
    "Her man man se, at vi har opnået et relativt lavt tab. Nu vil jeg prøve at køre den igennem for at se dets resultater."
   ]
  },
  {
   "cell_type": "code",
   "execution_count": 504,
   "metadata": {},
   "outputs": [
    {
     "name": "stdout",
     "output_type": "stream",
     "text": [
      "[0,0] : Expected 0 : Output 1.0\n",
      "[1,0] : Expected 1 : Output 1.0\n",
      "[0,1] : Expected 1 : Output 1.0\n",
      "[1,1] : Expected 0 : Output 1.0\n"
     ]
    }
   ],
   "source": [
    "print(f\"[0,0] : Expected 0 : Output {np.round(ann.frem(np.array([[0], [0]]))[0,0])}\")\n",
    "print(f\"[1,0] : Expected 1 : Output {np.round(ann.frem(np.array([[1], [0]]))[0,0])}\")\n",
    "print(f\"[0,1] : Expected 1 : Output {np.round(ann.frem(np.array([[0], [1]]))[0,0])}\")\n",
    "print(f\"[1,1] : Expected 0 : Output {np.round(ann.frem(np.array([[1], [1]]))[0,0])}\")"
   ]
  },
  {
   "cell_type": "markdown",
   "metadata": {},
   "source": [
    "Den svarer rigtigt på opgaven."
   ]
  },
  {
   "cell_type": "markdown",
   "metadata": {},
   "source": [
    "# Importering af MNIST\n",
    "MNIST er et stort dataset af håndskrevne cifre fra 0 - 9. Idéen her at at få netværket til at kunne genkende tallene og sortere dem ind i de rigtige kalsser. Men før dette kan gøres, skal vi importere denne data. I denne mappe har jeg to csv-filer med data. Den ene fil er til at træne netværker, mens den anden fil er til at teste dets præcision."
   ]
  },
  {
   "cell_type": "code",
   "execution_count": 505,
   "metadata": {},
   "outputs": [],
   "source": [
    "# Træningsdatet\n",
    "train_data = pd.read_csv('mnist_train.csv')\n",
    "\n",
    "train_labels = train_data.iloc[:, 0].to_numpy()\n",
    "train_images = train_data.iloc[:, 1:].to_numpy().reshape(-1, 784, 1)\n",
    "\n",
    "# Testdataet\n",
    "test_data = pd.read_csv('mnist_test.csv')\n",
    "\n",
    "test_labels = test_data.iloc[:, 0].to_numpy()\n",
    "test_images = test_data.iloc[:, 1:].to_numpy().reshape(-1, 784, 1)\n",
    "\n",
    "# Omdanner tallene i labels til vektorer med samme facon som outputtet fra netværket.\n",
    "def format_labels(labels):\n",
    "    formatted_labels = []\n",
    "    for label in labels:\n",
    "        formatted_label = np.zeros((10,1))\n",
    "        formatted_label[label] = 1\n",
    "        formatted_labels.append(formatted_label)\n",
    "    return np.array(formatted_labels)\n",
    "\n",
    "# Omdanner labels til vektorer\n",
    "train_labels = format_labels(train_labels)\n",
    "test_labels = format_labels(test_labels)\n"
   ]
  },
  {
   "cell_type": "markdown",
   "metadata": {},
   "source": [
    "# Træning på MNIST\n",
    "Nu er det bare tid til at træne et netværk på mnist. Alle billederne i MNIST er 1x28x28, så får det første lag skal have 784 neuroner. Selve sættet er heldigvis allerede sat i tilfældig rækkefølge, så det behøver vi ikke at bekymre os om."
   ]
  },
  {
   "cell_type": "code",
   "execution_count": 506,
   "metadata": {},
   "outputs": [
    {
     "name": "stdout",
     "output_type": "stream",
     "text": [
      "Epoke 1000/30000 | 3.33%\n",
      "0.8954912401739228\n",
      "\n"
     ]
    },
    {
     "ename": "KeyboardInterrupt",
     "evalue": "",
     "output_type": "error",
     "traceback": [
      "\u001b[1;31m---------------------------------------------------------------------------\u001b[0m",
      "\u001b[1;31mKeyboardInterrupt\u001b[0m                         Traceback (most recent call last)",
      "Cell \u001b[1;32mIn[506], line 10\u001b[0m\n\u001b[0;32m      1\u001b[0m mnistløser \u001b[38;5;241m=\u001b[39m Netværk([\n\u001b[0;32m      2\u001b[0m     FF(\u001b[38;5;241m784\u001b[39m, \u001b[38;5;241m16\u001b[39m),\n\u001b[0;32m      3\u001b[0m     Sigmoid(),\n\u001b[1;32m   (...)\u001b[0m\n\u001b[0;32m      7\u001b[0m     Sigmoid()\n\u001b[0;32m      8\u001b[0m ])\n\u001b[1;32m---> 10\u001b[0m \u001b[43mmnistløser\u001b[49m\u001b[38;5;241;43m.\u001b[39;49m\u001b[43mtræn\u001b[49m\u001b[43m(\u001b[49m\u001b[43mtrain_images\u001b[49m\u001b[43m,\u001b[49m\u001b[43m \u001b[49m\u001b[43mtrain_labels\u001b[49m\u001b[43m,\u001b[49m\u001b[43m \u001b[49m\u001b[38;5;241;43m0.1\u001b[39;49m\u001b[43m,\u001b[49m\u001b[43m \u001b[49m\u001b[38;5;241;43m30000\u001b[39;49m\u001b[43m,\u001b[49m\u001b[43m \u001b[49m\u001b[38;5;241;43m100\u001b[39;49m\u001b[43m,\u001b[49m\u001b[43m \u001b[49m\u001b[38;5;241;43m1000\u001b[39;49m\u001b[43m)\u001b[49m\n",
      "Cell \u001b[1;32mIn[502], line 58\u001b[0m, in \u001b[0;36mNetværk.træn\u001b[1;34m(self, inputs, ønskede_outputs, skridt_længde, epoker, batchstørrelse, tab_print_interval)\u001b[0m\n\u001b[0;32m     54\u001b[0m     \u001b[38;5;66;03m# Den partielle afledte af tabet for outputtet udregnes.\u001b[39;00m\n\u001b[0;32m     56\u001b[0m     \u001b[38;5;28;01mif\u001b[39;00m debug: \u001b[38;5;28mprint\u001b[39m(np\u001b[38;5;241m.\u001b[39mshape(pa_output))\n\u001b[1;32m---> 58\u001b[0m     \u001b[38;5;28;43mself\u001b[39;49m\u001b[38;5;241;43m.\u001b[39;49m\u001b[43m__tilbage\u001b[49m\u001b[43m(\u001b[49m\u001b[43mpa_output\u001b[49m\u001b[43m)\u001b[49m\n\u001b[0;32m     59\u001b[0m     \u001b[38;5;66;03m# Partielle afledte sendes igennem netværket.\u001b[39;00m\n\u001b[0;32m     61\u001b[0m \u001b[38;5;28mself\u001b[39m\u001b[38;5;241m.\u001b[39m__update(skridt_længde)\n",
      "Cell \u001b[1;32mIn[502], line 18\u001b[0m, in \u001b[0;36mNetværk.__tilbage\u001b[1;34m(self, pa_output)\u001b[0m\n\u001b[0;32m     14\u001b[0m \u001b[38;5;28;01mdef\u001b[39;00m \u001b[38;5;21m__tilbage\u001b[39m(\u001b[38;5;28mself\u001b[39m, pa_output) \u001b[38;5;241m-\u001b[39m\u001b[38;5;241m>\u001b[39m np\u001b[38;5;241m.\u001b[39mndarray:\n\u001b[0;32m     15\u001b[0m     \u001b[38;5;66;03m# Tilbage-metoden tager partielle afledte af outputtet, og sender dem igennem alle lagene i netværket.\u001b[39;00m\n\u001b[0;32m     17\u001b[0m     \u001b[38;5;28;01mfor\u001b[39;00m l \u001b[38;5;129;01min\u001b[39;00m \u001b[38;5;28mreversed\u001b[39m(\u001b[38;5;28mself\u001b[39m\u001b[38;5;241m.\u001b[39mlag):\n\u001b[1;32m---> 18\u001b[0m         pa_output \u001b[38;5;241m=\u001b[39m \u001b[43ml\u001b[49m\u001b[38;5;241;43m.\u001b[39;49m\u001b[43mtilbage\u001b[49m\u001b[43m(\u001b[49m\u001b[43mpa_output\u001b[49m\u001b[43m)\u001b[49m\n\u001b[0;32m     19\u001b[0m         \u001b[38;5;66;03m# Partielle afledte af outputtet sendes igennem hvert lag, og outputtet bliver det nye input.\u001b[39;00m\n\u001b[0;32m     20\u001b[0m     \u001b[38;5;28;01mreturn\u001b[39;00m pa_output\n",
      "Cell \u001b[1;32mIn[498], line 63\u001b[0m, in \u001b[0;36mFF.tilbage\u001b[1;34m(self, pa_output)\u001b[0m\n\u001b[0;32m     60\u001b[0m \u001b[38;5;28;01mdef\u001b[39;00m \u001b[38;5;21mtilbage\u001b[39m(\u001b[38;5;28mself\u001b[39m, pa_output) \u001b[38;5;241m-\u001b[39m\u001b[38;5;241m>\u001b[39m np\u001b[38;5;241m.\u001b[39mndarray:\n\u001b[0;32m     61\u001b[0m     \u001b[38;5;28;01mif\u001b[39;00m debug: \u001b[38;5;28mprint\u001b[39m(\u001b[38;5;124m\"\u001b[39m\u001b[38;5;124mFF tilbage\u001b[39m\u001b[38;5;124m\"\u001b[39m)\n\u001b[1;32m---> 63\u001b[0m     \u001b[38;5;28mself\u001b[39m\u001b[38;5;241m.\u001b[39mpa_w \u001b[38;5;241m+\u001b[39m\u001b[38;5;241m=\u001b[39m \u001b[43mnp\u001b[49m\u001b[38;5;241;43m.\u001b[39;49m\u001b[43mdot\u001b[49m\u001b[43m(\u001b[49m\u001b[43mpa_output\u001b[49m\u001b[43m,\u001b[49m\u001b[43m \u001b[49m\u001b[38;5;28;43mself\u001b[39;49m\u001b[38;5;241;43m.\u001b[39;49m\u001b[43minput\u001b[49m\u001b[38;5;241;43m.\u001b[39;49m\u001b[43mT\u001b[49m\u001b[43m)\u001b[49m\n\u001b[0;32m     64\u001b[0m     \u001b[38;5;28;01mif\u001b[39;00m debug: \u001b[38;5;28mprint\u001b[39m(\u001b[38;5;124m\"\u001b[39m\u001b[38;5;124mw clear\u001b[39m\u001b[38;5;124m\"\u001b[39m)\n\u001b[0;32m     65\u001b[0m     \u001b[38;5;66;03m# Hvis man differencerer frem() metoden med hensyn til vægtene, finder man at\u001b[39;00m\n\u001b[0;32m     66\u001b[0m     \u001b[38;5;66;03m# resultatet er inputtet ganget med partielle afledte af outputtet.\u001b[39;00m\n\u001b[0;32m     67\u001b[0m     \u001b[38;5;66;03m# Vi transponerer inputtet, da det er en kolonnevektor, så resultatet bliver \u001b[39;00m\n\u001b[0;32m     68\u001b[0m     \u001b[38;5;66;03m# en matrix, der passer til vægtenes facon.\u001b[39;00m\n",
      "\u001b[1;31mKeyboardInterrupt\u001b[0m: "
     ]
    }
   ],
   "source": [
    "mnistløser = Netværk([\n",
    "    FF(784, 16),\n",
    "    Sigmoid(),\n",
    "    FF(16, 16),\n",
    "    Sigmoid(),\n",
    "    FF(16, 10),\n",
    "    Sigmoid()\n",
    "])\n",
    "\n",
    "mnistløser.træn(train_images, train_labels, 0.1, 30000, 100, 1000)"
   ]
  },
  {
   "cell_type": "code",
   "execution_count": null,
   "metadata": {},
   "outputs": [
    {
     "name": "stdout",
     "output_type": "stream",
     "text": [
      "Præcision: 25.54%\n"
     ]
    }
   ],
   "source": [
    "mnistløser.test(test_images, test_labels)"
   ]
  }
 ],
 "metadata": {
  "kernelspec": {
   "display_name": "Python 3",
   "language": "python",
   "name": "python3"
  },
  "language_info": {
   "codemirror_mode": {
    "name": "ipython",
    "version": 3
   },
   "file_extension": ".py",
   "mimetype": "text/x-python",
   "name": "python",
   "nbconvert_exporter": "python",
   "pygments_lexer": "ipython3",
   "version": "3.12.2"
  }
 },
 "nbformat": 4,
 "nbformat_minor": 2
}
